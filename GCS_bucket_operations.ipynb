{
  "nbformat": 4,
  "nbformat_minor": 0,
  "metadata": {
    "colab": {
      "provenance": [],
      "authorship_tag": "ABX9TyNyETrPktJq/a7s7BQXqPO4",
      "include_colab_link": true
    },
    "kernelspec": {
      "name": "python3",
      "display_name": "Python 3"
    },
    "language_info": {
      "name": "python"
    }
  },
  "cells": [
    {
      "cell_type": "markdown",
      "metadata": {
        "id": "view-in-github",
        "colab_type": "text"
      },
      "source": [
        "<a href=\"https://colab.research.google.com/github/rahulprasanth487/Semantic-Kernal-and-GraphRAG/blob/main/GCS_bucket_operations.ipynb\" target=\"_parent\"><img src=\"https://colab.research.google.com/assets/colab-badge.svg\" alt=\"Open In Colab\"/></a>"
      ]
    },
    {
      "cell_type": "code",
      "execution_count": 7,
      "metadata": {
        "colab": {
          "base_uri": "https://localhost:8080/"
        },
        "id": "EzlqTePl8mZk",
        "outputId": "07fb8150-a97c-4dfa-e6ce-d12bae5f148d"
      },
      "outputs": [
        {
          "output_type": "stream",
          "name": "stdout",
          "text": [
            "Requirement already satisfied: google-auth in /usr/local/lib/python3.10/dist-packages (2.27.0)\n",
            "Requirement already satisfied: google-auth-oauthlib in /usr/local/lib/python3.10/dist-packages (1.2.1)\n",
            "Requirement already satisfied: google-cloud-storage in /usr/local/lib/python3.10/dist-packages (2.8.0)\n",
            "Requirement already satisfied: cachetools<6.0,>=2.0.0 in /usr/local/lib/python3.10/dist-packages (from google-auth) (5.5.0)\n",
            "Requirement already satisfied: pyasn1-modules>=0.2.1 in /usr/local/lib/python3.10/dist-packages (from google-auth) (0.4.1)\n",
            "Requirement already satisfied: rsa<5,>=3.1.4 in /usr/local/lib/python3.10/dist-packages (from google-auth) (4.9)\n",
            "Requirement already satisfied: requests-oauthlib>=0.7.0 in /usr/local/lib/python3.10/dist-packages (from google-auth-oauthlib) (1.3.1)\n",
            "Requirement already satisfied: google-api-core!=2.0.*,!=2.1.*,!=2.2.*,!=2.3.0,<3.0.0dev,>=1.31.5 in /usr/local/lib/python3.10/dist-packages (from google-cloud-storage) (2.19.2)\n",
            "Requirement already satisfied: google-cloud-core<3.0dev,>=2.3.0 in /usr/local/lib/python3.10/dist-packages (from google-cloud-storage) (2.4.1)\n",
            "Requirement already satisfied: google-resumable-media>=2.3.2 in /usr/local/lib/python3.10/dist-packages (from google-cloud-storage) (2.7.2)\n",
            "Requirement already satisfied: requests<3.0.0dev,>=2.18.0 in /usr/local/lib/python3.10/dist-packages (from google-cloud-storage) (2.32.3)\n",
            "Requirement already satisfied: googleapis-common-protos<2.0.dev0,>=1.56.2 in /usr/local/lib/python3.10/dist-packages (from google-api-core!=2.0.*,!=2.1.*,!=2.2.*,!=2.3.0,<3.0.0dev,>=1.31.5->google-cloud-storage) (1.65.0)\n",
            "Requirement already satisfied: protobuf!=3.20.0,!=3.20.1,!=4.21.0,!=4.21.1,!=4.21.2,!=4.21.3,!=4.21.4,!=4.21.5,<6.0.0.dev0,>=3.19.5 in /usr/local/lib/python3.10/dist-packages (from google-api-core!=2.0.*,!=2.1.*,!=2.2.*,!=2.3.0,<3.0.0dev,>=1.31.5->google-cloud-storage) (3.20.3)\n",
            "Requirement already satisfied: proto-plus<2.0.0dev,>=1.22.3 in /usr/local/lib/python3.10/dist-packages (from google-api-core!=2.0.*,!=2.1.*,!=2.2.*,!=2.3.0,<3.0.0dev,>=1.31.5->google-cloud-storage) (1.25.0)\n",
            "Requirement already satisfied: google-crc32c<2.0dev,>=1.0 in /usr/local/lib/python3.10/dist-packages (from google-resumable-media>=2.3.2->google-cloud-storage) (1.6.0)\n",
            "Requirement already satisfied: pyasn1<0.7.0,>=0.4.6 in /usr/local/lib/python3.10/dist-packages (from pyasn1-modules>=0.2.1->google-auth) (0.6.1)\n",
            "Requirement already satisfied: charset-normalizer<4,>=2 in /usr/local/lib/python3.10/dist-packages (from requests<3.0.0dev,>=2.18.0->google-cloud-storage) (3.4.0)\n",
            "Requirement already satisfied: idna<4,>=2.5 in /usr/local/lib/python3.10/dist-packages (from requests<3.0.0dev,>=2.18.0->google-cloud-storage) (3.10)\n",
            "Requirement already satisfied: urllib3<3,>=1.21.1 in /usr/local/lib/python3.10/dist-packages (from requests<3.0.0dev,>=2.18.0->google-cloud-storage) (2.2.3)\n",
            "Requirement already satisfied: certifi>=2017.4.17 in /usr/local/lib/python3.10/dist-packages (from requests<3.0.0dev,>=2.18.0->google-cloud-storage) (2024.8.30)\n",
            "Requirement already satisfied: oauthlib>=3.0.0 in /usr/local/lib/python3.10/dist-packages (from requests-oauthlib>=0.7.0->google-auth-oauthlib) (3.2.2)\n"
          ]
        }
      ],
      "source": [
        "!pip install google-auth google-auth-oauthlib google-cloud-storage"
      ]
    },
    {
      "cell_type": "code",
      "source": [
        "from google.cloud import storage\n",
        "from google.auth.transport.requests import Request\n",
        "from google.oauth2.credentials import Credentials\n",
        "import os"
      ],
      "metadata": {
        "id": "vg8Kynx48wOF"
      },
      "execution_count": 21,
      "outputs": []
    },
    {
      "cell_type": "markdown",
      "source": [
        "# LIST THE **FILES**"
      ],
      "metadata": {
        "id": "R6WVCIjt-q38"
      }
    },
    {
      "cell_type": "code",
      "source": [
        "def list_bucket_contents_with_token(bucket_name, access_token):\n",
        "    credentials = Credentials(token=access_token)\n",
        "\n",
        "    client = storage.Client(credentials=credentials, project='qwiklabs-gcp-01-61d132ccd3b0')\n",
        "\n",
        "    bucket = client.bucket(bucket_name)\n",
        "\n",
        "    blobs = bucket.list_blobs()\n",
        "\n",
        "    for blob in blobs:\n",
        "        print(blob.name)"
      ],
      "metadata": {
        "id": "CILfMTWy8zvU"
      },
      "execution_count": 37,
      "outputs": []
    },
    {
      "cell_type": "code",
      "source": [
        "b_name = \"abc_temp123\"\n",
        "acc_token=\"ya29.a0AeDClZDpF0bIF1LRN673QS09AUscLC9LlMbncd4fkIr4MCWZombTVbuONjViWbWQJVhyZOj65Aes0rb0Gm5bc0Ft4DViPtO1B_d6hzBH7s2WGNehC6PwO4dgJ4sQLyqjwA59KT_iBQPwgvnjhKghWdy99m5BA7bXquKUqf2Z-juL8Mj8Bb1-8S20BXmfXchRK1PppkXKw2cE6vzhAWgusv_egw3xlxOYhqtzWBfvn5OQWRqQ86-vK9B_7oszzjrFgMnaP9ZFi1zxY1AXvDrdYGrJqljzwjtvVGwZ3razHMl0IE2mNEi6O-O2pKv9tHMyZLw0Kny3_eruIgnyE2BevRCgbQ9MZWC4er4b2Iwmt6hwA_gf2SGr4ZQjl4CII2jt1EQT_zT46KJENb5KUwKptFMm4dXOPvUaCgYKAWMSARASFQHGX2Mi-lNiZ0rK2K8AW1xR_Q40_w0422\""
      ],
      "metadata": {
        "id": "YvjjuThG83iU"
      },
      "execution_count": 38,
      "outputs": []
    },
    {
      "cell_type": "code",
      "source": [
        "list_bucket_contents_with_token(b_name, acc_token)"
      ],
      "metadata": {
        "colab": {
          "base_uri": "https://localhost:8080/"
        },
        "id": "YeISR9H79qju",
        "outputId": "615681c4-892e-4f03-a00d-21271b0d44ce"
      },
      "execution_count": 39,
      "outputs": [
        {
          "output_type": "stream",
          "name": "stdout",
          "text": [
            "Slice_Presentation.pptx\n",
            "subdirr/\n",
            "subdirr/Wallpaper mobile.png\n"
          ]
        }
      ]
    },
    {
      "cell_type": "code",
      "source": [],
      "metadata": {
        "id": "HgBZUFgj9w91"
      },
      "execution_count": 39,
      "outputs": []
    },
    {
      "cell_type": "markdown",
      "source": [
        "# UPLOAD THE FILES"
      ],
      "metadata": {
        "id": "L-g4tEE1-4_Q"
      }
    },
    {
      "cell_type": "code",
      "source": [
        "def upload_file_to_gcs(bucket_name, access_token, source_file_name, destination_blob_name):\n",
        "    credentials = Credentials(token=access_token)\n",
        "\n",
        "    client = storage.Client(credentials=credentials, project='qwiklabs-gcp-01-61d132ccd3b0')\n",
        "\n",
        "    bucket = client.bucket(bucket_name)\n",
        "\n",
        "    blob = bucket.blob(destination_blob_name)\n",
        "\n",
        "    blob.upload_from_filename(source_file_name)\n",
        "\n",
        "    print(f\"File {source_file_name} uploaded to {destination_blob_name} in bucket {bucket_name}.\")"
      ],
      "metadata": {
        "id": "tkAgj4ZC-zIL"
      },
      "execution_count": 40,
      "outputs": []
    },
    {
      "cell_type": "code",
      "source": [
        "bucket_name = 'abc_temp123'\n",
        "access_token = 'ya29.a0AeDClZDpF0bIF1LRN673QS09AUscLC9LlMbncd4fkIr4MCWZombTVbuONjViWbWQJVhyZOj65Aes0rb0Gm5bc0Ft4DViPtO1B_d6hzBH7s2WGNehC6PwO4dgJ4sQLyqjwA59KT_iBQPwgvnjhKghWdy99m5BA7bXquKUqf2Z-juL8Mj8Bb1-8S20BXmfXchRK1PppkXKw2cE6vzhAWgusv_egw3xlxOYhqtzWBfvn5OQWRqQ86-vK9B_7oszzjrFgMnaP9ZFi1zxY1AXvDrdYGrJqljzwjtvVGwZ3razHMl0IE2mNEi6O-O2pKv9tHMyZLw0Kny3_eruIgnyE2BevRCgbQ9MZWC4er4b2Iwmt6hwA_gf2SGr4ZQjl4CII2jt1EQT_zT46KJENb5KUwKptFMm4dXOPvUaCgYKAWMSARASFQHGX2Mi-lNiZ0rK2K8AW1xR_Q40_w0422'\n",
        "source_file_name = '/content/requirements.txt'\n",
        "destination_blob_name = 'subdirr/'+source_file_name.split(\"/\")[-1]"
      ],
      "metadata": {
        "id": "ysDUSugE-zKI"
      },
      "execution_count": 41,
      "outputs": []
    },
    {
      "cell_type": "code",
      "source": [
        "upload_file_to_gcs(bucket_name, access_token, source_file_name, destination_blob_name)"
      ],
      "metadata": {
        "colab": {
          "base_uri": "https://localhost:8080/"
        },
        "id": "z2NN6WTM-zNo",
        "outputId": "2f4053a9-37d7-4601-dc47-b249378cbcd7"
      },
      "execution_count": 42,
      "outputs": [
        {
          "output_type": "stream",
          "name": "stdout",
          "text": [
            "File /content/requirements.txt uploaded to subdirr/requirements.txt in bucket abc_temp123.\n"
          ]
        }
      ]
    },
    {
      "cell_type": "code",
      "source": [],
      "metadata": {
        "id": "XutxV6unAF_0"
      },
      "execution_count": 42,
      "outputs": []
    },
    {
      "cell_type": "markdown",
      "source": [
        "# **UPLOAD A DIR**"
      ],
      "metadata": {
        "id": "4ihvhGjyCEcw"
      }
    },
    {
      "cell_type": "code",
      "source": [
        "def upload_folder_to_gcs(bucket_name, access_token, source_folder_path):\n",
        "    credentials = Credentials(token=access_token)\n",
        "\n",
        "    client = storage.Client(credentials=credentials, project='qwiklabs-gcp-01-61d132ccd3b0')\n",
        "\n",
        "    bucket = client.bucket(bucket_name)\n",
        "\n",
        "    destination_root_folder = os.path.basename(source_folder_path.rstrip('/'))\n",
        "\n",
        "    for root, dirs, files in os.walk(source_folder_path):\n",
        "        for file_name in files:\n",
        "\n",
        "            local_file_path = os.path.join(root, file_name)\n",
        "            relative_path = os.path.relpath(local_file_path, source_folder_path)\n",
        "\n",
        "            destination_blob_name = os.path.join(destination_root_folder, relative_path)\n",
        "\n",
        "            blob = bucket.blob(destination_blob_name)\n",
        "\n",
        "            blob.upload_from_filename(local_file_path)\n",
        "\n",
        "            print(f\"Uploaded {local_file_path} to {destination_blob_name} in bucket {bucket_name}.\")\n",
        "\n"
      ],
      "metadata": {
        "id": "PJbQm_EbCDki"
      },
      "execution_count": 43,
      "outputs": []
    },
    {
      "cell_type": "code",
      "source": [
        "source_folder_path = '/content/sampleDIR'"
      ],
      "metadata": {
        "id": "x-2ugm9VCDm0"
      },
      "execution_count": 44,
      "outputs": []
    },
    {
      "cell_type": "code",
      "source": [
        "upload_folder_to_gcs(bucket_name, access_token, source_folder_path)"
      ],
      "metadata": {
        "colab": {
          "base_uri": "https://localhost:8080/"
        },
        "id": "C6rYmPxvCDpE",
        "outputId": "29ed5ae0-d1dd-42c2-a4af-b8b803e892a5"
      },
      "execution_count": 45,
      "outputs": [
        {
          "output_type": "stream",
          "name": "stdout",
          "text": [
            "Uploaded /content/sampleDIR/spring-investor-presentation.pdf to sampleDIR/spring-investor-presentation.pdf in bucket abc_temp123.\n",
            "Uploaded /content/sampleDIR/Piechart.png to sampleDIR/Piechart.png in bucket abc_temp123.\n"
          ]
        }
      ]
    },
    {
      "cell_type": "code",
      "source": [],
      "metadata": {
        "id": "So1_7WEICDr5"
      },
      "execution_count": 45,
      "outputs": []
    },
    {
      "cell_type": "code",
      "source": [],
      "metadata": {
        "id": "vVWN8i8uEiZp"
      },
      "execution_count": null,
      "outputs": []
    }
  ]
}